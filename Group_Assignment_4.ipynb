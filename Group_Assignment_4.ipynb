{
  "nbformat": 4,
  "nbformat_minor": 0,
  "metadata": {
    "colab": {
      "name": "Group Assignment 4.ipynb",
      "provenance": [],
      "collapsed_sections": []
    },
    "kernelspec": {
      "name": "python3",
      "display_name": "Python 3"
    }
  },
  "cells": [
    {
      "cell_type": "markdown",
      "metadata": {
        "id": "PwYVYXMHWPSP",
        "colab_type": "text"
      },
      "source": [
        "# Group Assignment 4 (Group 17)\n",
        "Rachel Bosko, Jessie Liang, Pranay Muthineni, Kaiwen Xue"
      ]
    },
    {
      "cell_type": "code",
      "metadata": {
        "id": "vqAst7Xfal_0",
        "colab_type": "code",
        "colab": {}
      },
      "source": [
        "import sqlite3\n",
        "connectionToDatabase = sqlite3.connect('FitnessData')\n",
        "cursor = connectionToDatabase.cursor()\n",
        "\n",
        "cursor.execute('''drop table IF EXISTS user''')\n",
        "connectionToDatabase.commit()\n",
        "\n",
        "cursor.execute('''create table User (user_ID text PRIMARY KEY, first_name text, last_name text, age int, sex text, weight int, height int)''')\n",
        "connectionToDatabase.commit()\n",
        "\n",
        "cursor.execute('''drop table IF EXISTS activity''')\n",
        "connectionToDatabase.commit()\n",
        "\n",
        "cursor.execute('''create table Activity (activity_ID text PRIMARY KEY, activity_type text, user_ID text, workoutlog_ID text)''')\n",
        "connectionToDatabase.commit()\n",
        "\n",
        "cursor.execute('''drop table IF EXISTS Log''')\n",
        "connectionToDatabase.commit()\n",
        "\n",
        "cursor.execute('''create table Log (workoutlog_ID text PRIMARY KEY, time_duration text, steps int, heartrate_ID int, calorie_count int)''')\n",
        "connectionToDatabase.commit()\n",
        "\n",
        "cursor.execute('''drop table IF EXISTS time''')\n",
        "connectionToDatabase.commit()\n",
        "\n",
        "cursor.execute('''create table Time (time_duration text PRIMARY KEY, hours int, minutes int, seconds int, milliseconds int)''')\n",
        "connectionToDatabase.commit()\n",
        "\n",
        "cursor.execute('''drop table IF EXISTS heart_rate''')\n",
        "connectionToDatabase.commit()\n",
        "\n",
        "cursor.execute('''create table Heart_rate (heartrate_ID text PRIMARY KEY, beats_per_minute int, resting_heart_rate int, exercise_average int)''')\n",
        "connectionToDatabase.commit()\n",
        "\n",
        "cursor.execute('''drop table IF EXISTS calories''')\n",
        "connectionToDatabase.commit()\n",
        "\n",
        "cursor.execute('''create table Calories (calories_count text PRIMARY KEY, calories_per_minute int, calories_intake int, calories_burned int)''')\n",
        "connectionToDatabase.commit()"
      ],
      "execution_count": 0,
      "outputs": []
    },
    {
      "cell_type": "code",
      "metadata": {
        "id": "N0aGpNUXe2qg",
        "colab_type": "code",
        "colab": {}
      },
      "source": [
        "cursor.execute('''insert into Log values ('01', '1.15', '6537', '102', '862' );''')\n",
        "connectionToDatabase.commit()\n",
        "cursor.execute('''insert into Log values ('02', '2.07', '12093', '121', '1209' );''')\n",
        "connectionToDatabase.commit()\n",
        "cursor.execute('''insert into Log values ('03', '1.38', '7725', '92', '653' );''')\n",
        "connectionToDatabase.commit()\n",
        "cursor.execute('''insert into Log values ('04', '1.0', '5891', '116', '407' );''')\n",
        "connectionToDatabase.commit()\n",
        "cursor.execute('''insert into Log values ('05', '0.45', '4068', '90', '310' );''')\n",
        "connectionToDatabase.commit()"
      ],
      "execution_count": 0,
      "outputs": []
    },
    {
      "cell_type": "markdown",
      "metadata": {
        "id": "DGEZHVVsS8ej",
        "colab_type": "text"
      },
      "source": [
        "**Updated ER Diagram**\n",
        "\n",
        "![alt text](https://drive.google.com/uc?id=1rbCRN8uXJwKfCJdxvEcnyJ4YJa0-ZyRQ)"
      ]
    },
    {
      "cell_type": "markdown",
      "metadata": {
        "id": "uFfQGdl6UxmP",
        "colab_type": "text"
      },
      "source": [
        "**1.) Which workouts (top 3) did the user burn the most calories?**"
      ]
    },
    {
      "cell_type": "code",
      "metadata": {
        "id": "yufjuaGBVCRG",
        "colab_type": "code",
        "outputId": "e2a5844e-9ddb-426c-e596-c1af332efc2f",
        "colab": {
          "base_uri": "https://localhost:8080/",
          "height": 69
        }
      },
      "source": [
        "cursor.execute('''select workoutlog_ID, calorie_count from log ORDER BY calorie_count DESC limit 3;''')\n",
        "for row in cursor.fetchall():\n",
        "    print (row)"
      ],
      "execution_count": 0,
      "outputs": [
        {
          "output_type": "stream",
          "text": [
            "('02', 1209)\n",
            "('01', 862)\n",
            "('03', 653)\n"
          ],
          "name": "stdout"
        }
      ]
    },
    {
      "cell_type": "markdown",
      "metadata": {
        "id": "ny2WNqFRSOHj",
        "colab_type": "text"
      },
      "source": [
        "The goal of our project is to help the user identify a workout that is the most effective for them, and this question helps us determine this by capturing the total amount of calories burned. Calories burned is the best measure to determine the effectiveness of a workout, so based on calories burned the user will get the top three most effective workout, which is important to reaching our promise to the user."
      ]
    },
    {
      "cell_type": "markdown",
      "metadata": {
        "id": "4yrr5lMxU3_G",
        "colab_type": "text"
      },
      "source": [
        "**2.) What is the average steps, heartrate, and calories burned?**"
      ]
    },
    {
      "cell_type": "code",
      "metadata": {
        "id": "6NTJqPkFUu6n",
        "colab_type": "code",
        "outputId": "032aada3-1263-4061-dc2c-df48b4eee676",
        "colab": {
          "base_uri": "https://localhost:8080/",
          "height": 35
        }
      },
      "source": [
        "cursor.execute('''select AVG(steps), AVG(heartrate_ID), AVG(calorie_count) from log''')\n",
        "for row in cursor.fetchall():\n",
        "    print (row)"
      ],
      "execution_count": 0,
      "outputs": [
        {
          "output_type": "stream",
          "text": [
            "(7262.8, 104.2, 688.2)\n"
          ],
          "name": "stdout"
        }
      ]
    },
    {
      "cell_type": "markdown",
      "metadata": {
        "id": "-523wPOZSPP8",
        "colab_type": "text"
      },
      "source": [
        "It is important for our user to keep track of key fitness data, which will help them adjust the intensity of their workout regarding their health. This question is important because it helps the user track averages key fitness measures including steps, heart rate, and calories burned. This also helps them keep track of whether they are reaching their fitness goals on the daily."
      ]
    },
    {
      "cell_type": "markdown",
      "metadata": {
        "id": "-sLkrkLSVDlE",
        "colab_type": "text"
      },
      "source": [
        "**3.) What is the total amount of calories burned by the user where the time duration is between 1 and 2 hours?**"
      ]
    },
    {
      "cell_type": "code",
      "metadata": {
        "id": "pcXoz9slR3-8",
        "colab_type": "code",
        "outputId": "6564ac65-6032-408b-df00-12bf1e9fca90",
        "colab": {
          "base_uri": "https://localhost:8080/",
          "height": 35
        }
      },
      "source": [
        "cursor.execute('''select SUM(calorie_count) from log where time_duration BETWEEN 1 and 2''')\n",
        "for row in cursor.fetchall():\n",
        "    print (row)"
      ],
      "execution_count": 0,
      "outputs": [
        {
          "output_type": "stream",
          "text": [
            "(1922,)\n"
          ],
          "name": "stdout"
        }
      ]
    },
    {
      "cell_type": "markdown",
      "metadata": {
        "id": "e7b8khIDSPwQ",
        "colab_type": "text"
      },
      "source": [
        "When analyzing how effective your general workout schedule is, the longer workouts provide more accurate data about effectiveness because they help show underlying factors, like stamina and endurance of a workout. This question analyzes the total amount of calories burned for a typical long workout between one and two hours, which is important when trying to understand the underlying factors and their effect on the effectiveness of a workout."
      ]
    }
  ]
}